{
 "cells": [
  {
   "cell_type": "markdown",
   "metadata": {},
   "source": [
    "# Install necessary requirements."
   ]
  },
  {
   "cell_type": "code",
   "execution_count": 1,
   "metadata": {},
   "outputs": [
    {
     "name": "stdout",
     "output_type": "stream",
     "text": [
      "Note: you may need to restart the kernel to use updated packages.\n",
      "Note: you may need to restart the kernel to use updated packages.\n"
     ]
    }
   ],
   "source": [
    "# Install necessary libraries\n",
    "%pip install numpy h5py spacy pandas tqdm scikit-learn scipy matplotlib ipython --quiet\n",
    "%pip install torch torchvision torchaudio --index-url https://download.pytorch.org/whl/cu118 --quiet"
   ]
  },
  {
   "cell_type": "markdown",
   "metadata": {},
   "source": [
    "# Setup for the dataset\n",
    "\n",
    "The datasets can be downloaded from https://recsys.eb.dk/.\n",
    "\n",
    "1. Download the eb_nerd dataset locally on your computer.\n",
    "2. Create the following folder: `RecSysGroup27/ebnerd_data`.\n",
    "3. Extract the dataset into the `ebnerd_data` folder. \\\n",
    "The folder should contain the following datasets: \\\n",
    "`ebnerd_data/ebnerd_demo` \\\n",
    "`ebnerd_data/ebnerd_large` \\\n",
    "`ebnerd_data/ebnerd_small` \\\n",
    "`ebnerd_data/ebnerd_testset`\n",
    "\n",
    "Not all datasets are needed. ebnerd_large is only needed if you want to run on the large dataset and ebnerd_testset is only needed if you want to run on the test set. We recommend only using ebnerd_small and ebnerd_demo."
   ]
  },
  {
   "cell_type": "markdown",
   "metadata": {},
   "source": [
    "# Training and testing the model"
   ]
  },
  {
   "cell_type": "markdown",
   "metadata": {},
   "source": [
    "Import packages."
   ]
  },
  {
   "cell_type": "code",
   "execution_count": 1,
   "metadata": {},
   "outputs": [
    {
     "name": "stdout",
     "output_type": "stream",
     "text": [
      "spaCy model 'da_core_news_lg' is already installed.\n"
     ]
    }
   ],
   "source": [
    "# Import necessary libraries\n",
    "import torch\n",
    "from NRMS import NRMS\n",
    "from NRMSExtended import NRMSExtended\n",
    "import spacy\n",
    "\n",
    "# Install danish language model if it is not already installed\n",
    "try:\n",
    "    nlp = spacy.load(\"da_core_news_lg\")\n",
    "    print(\"spaCy model 'da_core_news_lg' is already installed.\")\n",
    "except:\n",
    "    print(\"spaCy model 'da_core_news_lg' not found. Installing...\")\n",
    "    !python -m spacy download da_core_news_lg --quiet\n",
    "    nlp = spacy.load(\"da_core_news_lg\")\n",
    "\n",
    "from Training import train, testOnWholeDataset\n",
    "from Testing import runOnTestSet\n"
   ]
  },
  {
   "cell_type": "markdown",
   "metadata": {},
   "source": [
    "Set the parameters. If you run into memory issues, turn batch_size and validation_batch_size down. You can turn down max_batches if you want to finish the training faster.\\\n",
    "You can change ebnerd_small to ebnerd_demo if you want the data loading to be faster. This may cause the training results to be worse."
   ]
  },
  {
   "cell_type": "code",
   "execution_count": null,
   "metadata": {},
   "outputs": [
    {
     "name": "stdout",
     "output_type": "stream",
     "text": [
      "cuda\n"
     ]
    }
   ],
   "source": [
    "# Check for available device\n",
    "DEVICE = torch.device(\"cuda\")# if torch.cuda.is_available() else torch.device(\"cpu\")\n",
    "print(DEVICE)\n",
    "\n",
    "# Model parameters\n",
    "dropout = 0.2\n",
    "h = 16                              # Number of attention heads in multi-head self-attention\n",
    "\n",
    "# Train parameters\n",
    "dataset_name = 'ebnerd_small'   # Name of the dataset used for training and validating\n",
    "k = 4                           # Number of negative samples to pair with each positive sample\n",
    "batch_size = 64\n",
    "weight_decay = 0.0\n",
    "learning_rate = 1e-3\n",
    "history_size = 30               # Number of user history entries after truncation or padding\n",
    "max_title_size = 20             # Number of tokens in an article title after truncation or padding\n",
    "num_epochs = 100                # Not really used (takes too long to reach number of epochs)\n",
    "validate_every = 100            # How many train batches between validations\n",
    "validation_batch_size = 100     # The batch size for validation\n",
    "n_validation_batches = 100       # How many batches to run for each validation\n",
    "max_batches = 500              # Turn this down if you want to end the training early\n",
    "\n",
    "save_model = False #Activate this if you want the best model to best saved during training"
   ]
  },
  {
   "cell_type": "markdown",
   "metadata": {},
   "source": [
    "Here the model is created. You can choose whether to use time embeddings or not.\n",
    "Please restart the kernel if you have already created a model."
   ]
  },
  {
   "cell_type": "code",
   "execution_count": 3,
   "metadata": {},
   "outputs": [],
   "source": [
    "with_time_embeddings = True\n",
    "\n",
    "if with_time_embeddings:\n",
    "    model = NRMSExtended(nlp, h=h, dropout=dropout).to(DEVICE)\n",
    "else:\n",
    "    model = NRMS(nlp, h=h, dropout=dropout).to(DEVICE)\n",
    "\n",
    "#Uncomment this line if you want to load a model from a saved file.\n",
    "#model.load_state_dict(torch.load('model_best.pth', map_location=DEVICE))"
   ]
  },
  {
   "cell_type": "markdown",
   "metadata": {},
   "source": [
    "The next cell runs the training. Here, we train much less than we did for the results shown in the report. Turn up max_batches if you want more training.\n",
    "Data loading may take up to around 1 minute for ebnerd_small. Use ebnerd_demo as explained above to load faster."
   ]
  },
  {
   "cell_type": "code",
   "execution_count": 4,
   "metadata": {},
   "outputs": [
    {
     "name": "stdout",
     "output_type": "stream",
     "text": [
      "Validation number 2/2\n",
      "Validation datapoints:  10000\n"
     ]
    },
    {
     "name": "stderr",
     "output_type": "stream",
     "text": [
      "AUC: 100%|██████████████████████████████| 10000/10000 [00:04<00:00, 2015.98it/s]\n",
      "AUC: 100%|████████████████████████████████| 6336/6336 [00:03<00:00, 1982.08it/s]"
     ]
    },
    {
     "name": "stdout",
     "output_type": "stream",
     "text": [
      "Validation auc:  0.6586941923617032\n",
      "Validation loss:  0.027286160945892333\n",
      "Train auc:  0.6716382575757576\n",
      "Average train loss:  0.02315664750458014\n",
      "Average train accuracy:  0.3229166666666667\n",
      "\n"
     ]
    },
    {
     "name": "stderr",
     "output_type": "stream",
     "text": [
      "\n"
     ]
    },
    {
     "data": {
      "image/png": "[encoded data removed]",
      "text/plain": [
       "<Figure size 640x480 with 1 Axes>"
      ]
     },
     "metadata": {},
     "output_type": "display_data"
    }
   ],
   "source": [
    "train(\n",
    "        model=model,\n",
    "        dataset_name=dataset_name,\n",
    "        k=k,\n",
    "        batch_size=batch_size,\n",
    "        weight_decay=weight_decay,\n",
    "        learning_rate=learning_rate,\n",
    "        history_size=history_size,\n",
    "        max_title_size=max_title_size,\n",
    "        nlp=nlp,\n",
    "        save_model=save_model,\n",
    "        num_epochs=num_epochs,\n",
    "        validate_every=validate_every,\n",
    "        validation_batch_size=validation_batch_size,\n",
    "        n_validation_batches=n_validation_batches,\n",
    "        max_batches=max_batches,\n",
    "        with_time_embeddings=with_time_embeddings\n",
    "    )"
   ]
  },
  {
   "cell_type": "markdown",
   "metadata": {},
   "source": [
    "Here you can run the model on the whole validation dataset. We recommend running on ebnerd_demo or ebnerd_small. These have about 25000 and 250000 impressions respectively."
   ]
  },
  {
   "cell_type": "code",
   "execution_count": 5,
   "metadata": {},
   "outputs": [
    {
     "name": "stdout",
     "output_type": "stream",
     "text": [
      "Time to load data:  2.7557456493377686\n",
      "Finished: 10000/25356\n",
      "Finished: 20000/25356\n"
     ]
    },
    {
     "name": "stderr",
     "output_type": "stream",
     "text": [
      "AUC: 100%|██████████████████████████████| 25356/25356 [00:12<00:00, 2006.47it/s]"
     ]
    },
    {
     "name": "stdout",
     "output_type": "stream",
     "text": [
      "Final AUC score on whole dataset:  0.6627784112273145\n"
     ]
    },
    {
     "name": "stderr",
     "output_type": "stream",
     "text": [
      "\n"
     ]
    }
   ],
   "source": [
    "with torch.no_grad(): #Test on whole validation set\n",
    "        final_auc = testOnWholeDataset(model, \"ebnerd_demo\", \"validation\", history_size, max_title_size, nlp, batch_size=validation_batch_size, with_time_embeddings=with_time_embeddings)"
   ]
  },
  {
   "cell_type": "markdown",
   "metadata": {},
   "source": [
    "Here you can run on the entire test set and produce an predictions file. This takes a long time so we do not recommend doing this."
   ]
  },
  {
   "cell_type": "code",
   "execution_count": null,
   "metadata": {},
   "outputs": [
    {
     "name": "stdout",
     "output_type": "stream",
     "text": [
      "Time to load data:  2.789428949356079\n",
      "Finished: 10000/25356\n",
      "Finished: 20000/25356\n",
      "Saving file...\n"
     ]
    }
   ],
   "source": [
    "#Uncomment these lines if you want to run on the test set\n",
    "#with torch.no_grad():\n",
    "    #runOnTestSet(model, history_size, max_title_size, nlp, batch_size=validation_batch_size, with_time_embeddings=with_time_embeddings)"
   ]
  }
 ],
 "metadata": {
  "kernelspec": {
   "display_name": "base",
   "language": "python",
   "name": "python3"
  },
  "language_info": {
   "codemirror_mode": {
    "name": "ipython",
    "version": 3
   },
   "file_extension": ".py",
   "mimetype": "text/x-python",
   "name": "python",
   "nbconvert_exporter": "python",
   "pygments_lexer": "ipython3",
   "version": "3.12.7"
  }
 },
 "nbformat": 4,
 "nbformat_minor": 2
}
